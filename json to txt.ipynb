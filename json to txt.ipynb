{
 "cells": [
  {
   "cell_type": "code",
   "execution_count": 1,
   "metadata": {},
   "outputs": [],
   "source": [
    "import os\n",
    "from os import getcwd\n",
    "from os.path import join\n",
    "import sys\n",
    "import json"
   ]
  },
  {
   "cell_type": "code",
   "execution_count": 2,
   "metadata": {},
   "outputs": [],
   "source": [
    "try:\n",
    "    os.makedirs(\"./Data/comm_use_subset/comm_use_subset\")\n",
    "    os.makedirs(\"./Data/noncomm_use_subset/noncomm_use_subset\")\n",
    "    os.makedirs(\"./Data/biorxiv_medrxiv/biorxiv_medrxiv\")\n",
    "    os.makedirs(\"./Data/custom_license/custom_license\")\n",
    "except:\n",
    "    pass"
   ]
  },
  {
   "cell_type": "code",
   "execution_count": 3,
   "metadata": {},
   "outputs": [],
   "source": [
    "directories = [x[1] for x in os.walk(getcwd() + \"/CORD-19-research-challenge/\")][0] \n",
    "for i in range(len(directories)):\n",
    "    directories[i] = '/'+directories[i]+'/'+directories[i]+'/'"
   ]
  },
  {
   "cell_type": "code",
   "execution_count": 4,
   "metadata": {},
   "outputs": [],
   "source": [
    "def extract_json(file):\n",
    "    text = ''\n",
    "    content = file['body_text']\n",
    "    _id = file['paper_id']\n",
    "    \n",
    "    for para in content:\n",
    "        text += para['text']\n",
    "        text += '\\n'\n",
    "        \n",
    "    return _id, text\n",
    "\n",
    "def write_txt(_id, text,_dir):\n",
    "    path = \"./Data\" + _dir + _id + \".txt\"\n",
    "    with open(path, \"w+\") as file:\n",
    "        file.write(text)\n",
    "    return ''"
   ]
  },
  {
   "cell_type": "code",
   "execution_count": 5,
   "metadata": {},
   "outputs": [],
   "source": [
    "for _dir in directories:\n",
    "    path = join(getcwd() + \"/CORD-19-research-challenge/\" + _dir)\n",
    "    articles = os.listdir(path)\n",
    "    \n",
    "    for article in articles:\n",
    "        with open(path+article, 'rb') as file:\n",
    "            _json = json.load(file)\n",
    "            _id, text = extract_json(_json)\n",
    "            write_txt(_id,text,_dir)"
   ]
  },
  {
   "cell_type": "code",
   "execution_count": null,
   "metadata": {},
   "outputs": [],
   "source": []
  },
  {
   "cell_type": "code",
   "execution_count": null,
   "metadata": {},
   "outputs": [],
   "source": []
  },
  {
   "cell_type": "code",
   "execution_count": null,
   "metadata": {},
   "outputs": [],
   "source": []
  },
  {
   "cell_type": "code",
   "execution_count": null,
   "metadata": {},
   "outputs": [],
   "source": []
  },
  {
   "cell_type": "code",
   "execution_count": null,
   "metadata": {},
   "outputs": [],
   "source": []
  }
 ],
 "metadata": {
  "kernelspec": {
   "display_name": "Python 3",
   "language": "python",
   "name": "python3"
  },
  "language_info": {
   "codemirror_mode": {
    "name": "ipython",
    "version": 3
   },
   "file_extension": ".py",
   "mimetype": "text/x-python",
   "name": "python",
   "nbconvert_exporter": "python",
   "pygments_lexer": "ipython3",
   "version": "3.7.4"
  }
 },
 "nbformat": 4,
 "nbformat_minor": 2
}
